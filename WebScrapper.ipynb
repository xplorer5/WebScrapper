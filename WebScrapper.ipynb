{
  "nbformat": 4,
  "nbformat_minor": 0,
  "metadata": {
    "colab": {
      "provenance": [],
      "authorship_tag": "ABX9TyOlI/NGEHGGZmt37xLbxVdO",
      "include_colab_link": true
    },
    "kernelspec": {
      "name": "python3",
      "display_name": "Python 3"
    },
    "language_info": {
      "name": "python"
    }
  },
  "cells": [
    {
      "cell_type": "markdown",
      "metadata": {
        "id": "view-in-github",
        "colab_type": "text"
      },
      "source": [
        "<a href=\"https://colab.research.google.com/github/xplorer5/WebScrapper/blob/main/WebScrapper.ipynb\" target=\"_parent\"><img src=\"https://colab.research.google.com/assets/colab-badge.svg\" alt=\"Open In Colab\"/></a>"
      ]
    },
    {
      "cell_type": "code",
      "source": [
        "pip install beautifulsoup4"
      ],
      "metadata": {
        "colab": {
          "base_uri": "https://localhost:8080/"
        },
        "id": "ExVd7pIqINDF",
        "outputId": "23052d51-dcb8-4b05-89c0-a76325f193c9"
      },
      "execution_count": 1,
      "outputs": [
        {
          "output_type": "stream",
          "name": "stdout",
          "text": [
            "Requirement already satisfied: beautifulsoup4 in /usr/local/lib/python3.10/dist-packages (4.11.2)\n",
            "Requirement already satisfied: soupsieve>1.2 in /usr/local/lib/python3.10/dist-packages (from beautifulsoup4) (2.5)\n"
          ]
        }
      ]
    },
    {
      "cell_type": "code",
      "source": [
        "import urllib.request\n",
        "from bs4 import BeautifulSoup\n",
        "\n",
        "\n",
        "class Scraper:\n",
        "    def __init__(self, site):\n",
        "        self.site = site"
      ],
      "metadata": {
        "id": "PlEgtMeQIU2h"
      },
      "execution_count": 2,
      "outputs": []
    },
    {
      "cell_type": "code",
      "source": [
        "def scrape(self):\n",
        "        r = urllib.request.urlopen(self.site)\n",
        "        html = r.read()"
      ],
      "metadata": {
        "id": "RKLHCvb4IZiC"
      },
      "execution_count": 3,
      "outputs": []
    },
    {
      "cell_type": "code",
      "source": [
        " def scrape(self):\n",
        "        r = urllib.request.urlopen(self.site)\n",
        "        html = r.read()\n",
        "        parser = \"html.parser\"\n",
        "        sp = BeautifulSoup(html,parser)"
      ],
      "metadata": {
        "id": "JhdtrPFSIdrU"
      },
      "execution_count": 4,
      "outputs": []
    },
    {
      "cell_type": "code",
      "source": [
        "def scrape(self):\n",
        "        r = urllib.request.urlopen(self.site)\n",
        "        html = r.read()\n",
        "        parser = \"html.parser\"\n",
        "        sp = BeautifulSoup(html,parser)\n",
        "        for tag in sp.find_all(\"a\"):\n",
        "            url = tag.get(\"href\")\n",
        "            if url is None:\n",
        "                continue\n",
        "            if \"articles\" in url:\n",
        "                print(\"\\n\" + url)"
      ],
      "metadata": {
        "id": "xuutko5EIhmT"
      },
      "execution_count": 5,
      "outputs": []
    },
    {
      "cell_type": "code",
      "source": [
        "import urllib.request\n",
        "from bs4 import BeautifulSoup\n",
        "\n",
        "\n",
        "class Scraper:\n",
        "    def __init__(self, site):\n",
        "        self.site = site\n",
        "\n",
        "    def scrape(self):\n",
        "        r = urllib.request.urlopen(self.site)\n",
        "        html = r.read()\n",
        "        parser = \"html.parser\"\n",
        "        sp = BeautifulSoup(html,parser)\n",
        "        for tag in sp.find_all(\"a\"):\n",
        "            url = tag.get(\"href\")\n",
        "            if url is None:\n",
        "                continue\n",
        "            if \"articles\" in url:\n",
        "                print(\"\\n\" + url)\n",
        "\n",
        "news = \"https://news.google.com/\"\n",
        "Scraper(news).scrape()"
      ],
      "metadata": {
        "colab": {
          "base_uri": "https://localhost:8080/"
        },
        "id": "aHk-hLBmIlCf",
        "outputId": "9c4713e5-c6e9-417f-8b54-360bd46be15f"
      },
      "execution_count": 6,
      "outputs": [
        {
          "output_type": "stream",
          "name": "stdout",
          "text": [
            "\n",
            "./articles/CBMiWWh0dHBzOi8vd3d3LmF4aW9zLmNvbS8yMDIzLzEyLzIzL3BhcmFtZWRpY3MtZ3VpbHR5LXZlcmRpY3QtZWxpamFoLW1jY2xhaW4tYXVyb3JhLWNvbG9yYWRv0gEA?hl=en-US&gl=US&ceid=US%3Aen\n",
            "\n",
            "./articles/CBMiWWh0dHBzOi8vd3d3LmF4aW9zLmNvbS8yMDIzLzEyLzIzL3BhcmFtZWRpY3MtZ3VpbHR5LXZlcmRpY3QtZWxpamFoLW1jY2xhaW4tYXVyb3JhLWNvbG9yYWRv0gEA?hl=en-US&gl=US&ceid=US%3Aen\n",
            "\n",
            "./articles/CBMicWh0dHBzOi8vd3d3LmZveG5ld3MuY29tL3VzL2NvbG9yYWRvLXBhcmFtZWRpY3MtZm91bmQtZ3VpbHR5LTIwMTktZGVhdGgtZWxpamFoLW1jY2xhaW4ta2V0YW1pbmUtaW5qZWN0aW9uLW92ZXJkb3Nl0gF1aHR0cHM6Ly93d3cuZm94bmV3cy5jb20vdXMvY29sb3JhZG8tcGFyYW1lZGljcy1mb3VuZC1ndWlsdHktMjAxOS1kZWF0aC1lbGlqYWgtbWNjbGFpbi1rZXRhbWluZS1pbmplY3Rpb24tb3ZlcmRvc2UuYW1w?hl=en-US&gl=US&ceid=US%3Aen\n",
            "\n",
            "./articles/CBMicWh0dHBzOi8vd3d3LmZveG5ld3MuY29tL3VzL2NvbG9yYWRvLXBhcmFtZWRpY3MtZm91bmQtZ3VpbHR5LTIwMTktZGVhdGgtZWxpamFoLW1jY2xhaW4ta2V0YW1pbmUtaW5qZWN0aW9uLW92ZXJkb3Nl0gF1aHR0cHM6Ly93d3cuZm94bmV3cy5jb20vdXMvY29sb3JhZG8tcGFyYW1lZGljcy1mb3VuZC1ndWlsdHktMjAxOS1kZWF0aC1lbGlqYWgtbWNjbGFpbi1rZXRhbWluZS1pbmplY3Rpb24tb3ZlcmRvc2UuYW1w?hl=en-US&gl=US&ceid=US%3Aen\n",
            "\n",
            "./articles/CBMiTWh0dHBzOi8vd3d3Lm55dGltZXMuY29tLzIwMjMvMTIvMjIvdXMvZWxpamFoLW1jY2xhaW4tZGVhdGgtdHJpYWwtdmVyZGljdC5odG1s0gEA?hl=en-US&gl=US&ceid=US%3Aen\n",
            "\n",
            "./articles/CBMiTWh0dHBzOi8vd3d3Lm55dGltZXMuY29tLzIwMjMvMTIvMjIvdXMvZWxpamFoLW1jY2xhaW4tZGVhdGgtdHJpYWwtdmVyZGljdC5odG1s0gEA?hl=en-US&gl=US&ceid=US%3Aen\n",
            "\n",
            "./articles/CBMiXmh0dHBzOi8vd3d3LnRoZWd1YXJkaWFuLmNvbS91cy1uZXdzLzIwMjMvZGVjLzIzL2VsaWphaC1tY2NsYWluLWRlYXRoLWNvbG9yYWRvLXRyaWFsLXBhcmFtZWRpY3PSAV5odHRwczovL2FtcC50aGVndWFyZGlhbi5jb20vdXMtbmV3cy8yMDIzL2RlYy8yMy9lbGlqYWgtbWNjbGFpbi1kZWF0aC1jb2xvcmFkby10cmlhbC1wYXJhbWVkaWNz?hl=en-US&gl=US&ceid=US%3Aen\n",
            "\n",
            "./articles/CBMiXmh0dHBzOi8vd3d3LnRoZWd1YXJkaWFuLmNvbS91cy1uZXdzLzIwMjMvZGVjLzIzL2VsaWphaC1tY2NsYWluLWRlYXRoLWNvbG9yYWRvLXRyaWFsLXBhcmFtZWRpY3PSAV5odHRwczovL2FtcC50aGVndWFyZGlhbi5jb20vdXMtbmV3cy8yMDIzL2RlYy8yMy9lbGlqYWgtbWNjbGFpbi1kZWF0aC1jb2xvcmFkby10cmlhbC1wYXJhbWVkaWNz?hl=en-US&gl=US&ceid=US%3Aen\n",
            "\n",
            "./articles/CBMicmh0dHBzOi8vdGhlaGlsbC5jb20vcmVndWxhdGlvbi9jb3VydC1iYXR0bGVzLzQzNzQ5NDktY29ud2F5LXJlZnV0ZXMtdGFwcGVyLWNsYWltcy10cnVtcC1nb3QtYmlnLXdpbi1zY290dXMtcnVsaW5nL9IBdmh0dHBzOi8vdGhlaGlsbC5jb20vcmVndWxhdGlvbi9jb3VydC1iYXR0bGVzLzQzNzQ5NDktY29ud2F5LXJlZnV0ZXMtdGFwcGVyLWNsYWltcy10cnVtcC1nb3QtYmlnLXdpbi1zY290dXMtcnVsaW5nL2FtcC8?hl=en-US&gl=US&ceid=US%3Aen\n",
            "\n",
            "./articles/CBMicmh0dHBzOi8vdGhlaGlsbC5jb20vcmVndWxhdGlvbi9jb3VydC1iYXR0bGVzLzQzNzQ5NDktY29ud2F5LXJlZnV0ZXMtdGFwcGVyLWNsYWltcy10cnVtcC1nb3QtYmlnLXdpbi1zY290dXMtcnVsaW5nL9IBdmh0dHBzOi8vdGhlaGlsbC5jb20vcmVndWxhdGlvbi9jb3VydC1iYXR0bGVzLzQzNzQ5NDktY29ud2F5LXJlZnV0ZXMtdGFwcGVyLWNsYWltcy10cnVtcC1nb3QtYmlnLXdpbi1zY290dXMtcnVsaW5nL2FtcC8?hl=en-US&gl=US&ceid=US%3Aen\n",
            "\n",
            "./articles/CBMiamh0dHBzOi8vd3d3LmNubi5jb20vdmlkZW9zL3BvbGl0aWNzLzIwMjMvMTIvMjMvY29ud2F5LXJlYXgtdHJ1bXAtc2NvdHVzLXJlamVjdHMtaW1tdW5pdHktY2FzZS1sZWFkLXZweC5jbm7SAQA?hl=en-US&gl=US&ceid=US%3Aen\n",
            "\n",
            "./articles/CBMiamh0dHBzOi8vd3d3LmNubi5jb20vdmlkZW9zL3BvbGl0aWNzLzIwMjMvMTIvMjMvY29ud2F5LXJlYXgtdHJ1bXAtc2NvdHVzLXJlamVjdHMtaW1tdW5pdHktY2FzZS1sZWFkLXZweC5jbm7SAQA?hl=en-US&gl=US&ceid=US%3Aen\n",
            "\n",
            "./articles/CBMiR2h0dHBzOi8vd3d3Lm5ld3N3ZWVrLmNvbS9kb25hbGQtdHJ1bXAtc3VwcmVtZS1jb3VydC1qb3ljZS12YW5jZS0xODU1MTc10gEA?hl=en-US&gl=US&ceid=US%3Aen\n",
            "\n",
            "./articles/CBMiR2h0dHBzOi8vd3d3Lm5ld3N3ZWVrLmNvbS9kb25hbGQtdHJ1bXAtc3VwcmVtZS1jb3VydC1qb3ljZS12YW5jZS0xODU1MTc10gEA?hl=en-US&gl=US&ceid=US%3Aen\n",
            "\n",
            "./articles/CBMiQ2h0dHBzOi8vd3d3Lm55dGltZXMuY29tLzIwMjMvMTIvMjMvb3Bpbmlvbi90cnVtcC1zdXByZW1lLWNvdXJ0Lmh0bWzSAQA?hl=en-US&gl=US&ceid=US%3Aen\n",
            "\n",
            "./articles/CBMiQ2h0dHBzOi8vd3d3Lm55dGltZXMuY29tLzIwMjMvMTIvMjMvb3Bpbmlvbi90cnVtcC1zdXByZW1lLWNvdXJ0Lmh0bWzSAQA?hl=en-US&gl=US&ceid=US%3Aen\n",
            "\n",
            "./articles/CBMiWGh0dHBzOi8vd3d3Lm55dGltZXMuY29tLzIwMjMvMTIvMjMvd29ybGQvbWlkZGxlZWFzdC9pc3JhZWwtZ2F6YS1iZXRobGVoZW0tY2hyaXN0bWFzLmh0bWzSAQA?hl=en-US&gl=US&ceid=US%3Aen\n",
            "\n",
            "./articles/CBMiWGh0dHBzOi8vd3d3Lm55dGltZXMuY29tLzIwMjMvMTIvMjMvd29ybGQvbWlkZGxlZWFzdC9pc3JhZWwtZ2F6YS1iZXRobGVoZW0tY2hyaXN0bWFzLmh0bWzSAQA?hl=en-US&gl=US&ceid=US%3Aen\n",
            "\n",
            "./articles/CBMiY2h0dHBzOi8vd3d3LnBvbGl0aWNvLmV1L2FydGljbGUvYW50b25pby1ndXRlcnJlcy11bi1jaGllZi1pc3JhZWwtY3JlYXRlLW1hc3NpdmUtb2JzdGFjbGVzLWdhemEtYWlkL9IBAA?hl=en-US&gl=US&ceid=US%3Aen\n",
            "\n",
            "./articles/CBMiY2h0dHBzOi8vd3d3LnBvbGl0aWNvLmV1L2FydGljbGUvYW50b25pby1ndXRlcnJlcy11bi1jaGllZi1pc3JhZWwtY3JlYXRlLW1hc3NpdmUtb2JzdGFjbGVzLWdhemEtYWlkL9IBAA?hl=en-US&gl=US&ceid=US%3Aen\n"
          ]
        }
      ]
    }
  ]
}